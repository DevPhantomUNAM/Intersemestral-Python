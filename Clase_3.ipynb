{
 "cells": [
  {
   "cell_type": "code",
   "execution_count": 9,
   "metadata": {},
   "outputs": [
    {
     "name": "stdout",
     "output_type": "stream",
     "text": [
      "\t\t\t Programa que realiza el registro de las calificaciones del curso Python \n",
      "\n",
      "1)llenar \n",
      "2)salir \n",
      "\n",
      "Elige una opción: 1\n",
      "Ingresa el nombre del alumno: Daniel\n",
      "Ingresa la califación del alumno: 10\n",
      "1)llenar \n",
      "2)salir \n",
      "\n",
      "Elige una opción: 2\n",
      "Gracias totales\n",
      "['Daniel,10']\n",
      "<class 'list'>\n"
     ]
    }
   ],
   "source": [
    "#Registro de calificaciones\n",
    "\n",
    "print(\"\\t\\t\\t Programa que realiza el registro de las calificaciones del curso Python \\n\")\n",
    "\n",
    "opcion=\"0\"\n",
    "datos=[]\n",
    "\n",
    "#diferente !=\n",
    "\n",
    "while (opcion!=\"2\"):\n",
    "    print(\"1)llenar \\n2)salir \\n\")\n",
    "    opcion=input(\"Elige una opción: \")\n",
    "    if opcion==\"1\":\n",
    "        nombre=input(\"Ingresa el nombre del alumno: \")\n",
    "        cal=input(\"Ingresa la califación del alumno: \")\n",
    "        registro= nombre+ \",\"+ cal\n",
    "        datos.append(registro)\n",
    "    elif opcion==\"2\":\n",
    "        print(\"Gracias totales\")\n",
    "    else:\n",
    "        print(\"Opción no válida jaja\")\n",
    "\n",
    "print(datos)\n",
    "print(type(datos))\n"
   ]
  },
  {
   "cell_type": "code",
   "execution_count": null,
   "metadata": {},
   "outputs": [],
   "source": [
    "archivo= open(\"calificaciones.csv\",\"a\")\n",
    "#archivo.write() #Una sola cosa o linea\n",
    "archivo.writelines(datos) #Escribe en mi archivo más de una linea\n",
    "archivo.close()\n",
    "\n",
    "a=open(\"calificaciones.csv\",\"r\")\n",
    "contenido=a.readlines()\n",
    "a.close()\n",
    "\n",
    "print(contenido)"
   ]
  },
  {
   "cell_type": "code",
   "execution_count": 5,
   "metadata": {},
   "outputs": [],
   "source": [
    "lista = [{'Daniel':'10'}]"
   ]
  },
  {
   "cell_type": "code",
   "execution_count": 6,
   "metadata": {},
   "outputs": [],
   "source": [
    "lista2 = [['Daniel','10']]"
   ]
  },
  {
   "cell_type": "code",
   "execution_count": 29,
   "metadata": {},
   "outputs": [],
   "source": [
    "nombre = \"Maria\" + \"\\n\"\n",
    "calificacion = \"10\" "
   ]
  },
  {
   "cell_type": "code",
   "execution_count": 30,
   "metadata": {},
   "outputs": [
    {
     "name": "stdout",
     "output_type": "stream",
     "text": [
      "['\\n', 'Daniel\\n', '10Maria\\n', '10']\n"
     ]
    }
   ],
   "source": [
    "archivo= open(\"calificaciones.csv\",\"a\")\n",
    "#archivo.write() #Una sola cosa o linea\n",
    "archivo.writelines(nombre) #Escribe en mi archivo más de una linea\n",
    "archivo.writelines(calificacion)\n",
    "archivo.close()\n",
    "\n",
    "a=open(\"calificaciones.csv\",\"r\")\n",
    "contenido=a.readlines()\n",
    "a.close()\n",
    "\n",
    "print(contenido)"
   ]
  },
  {
   "cell_type": "code",
   "execution_count": null,
   "metadata": {},
   "outputs": [],
   "source": []
  }
 ],
 "metadata": {
  "kernelspec": {
   "display_name": "Python 3",
   "language": "python",
   "name": "python3"
  },
  "language_info": {
   "codemirror_mode": {
    "name": "ipython",
    "version": 3
   },
   "file_extension": ".py",
   "mimetype": "text/x-python",
   "name": "python",
   "nbconvert_exporter": "python",
   "pygments_lexer": "ipython3",
   "version": "3.7.4"
  }
 },
 "nbformat": 4,
 "nbformat_minor": 2
}
