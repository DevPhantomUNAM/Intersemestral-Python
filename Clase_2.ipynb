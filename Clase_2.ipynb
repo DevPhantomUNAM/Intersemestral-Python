{
 "cells": [
  {
   "cell_type": "markdown",
   "metadata": {},
   "source": [
    "###### Programa que determina si un valor entero es engativo o positivo"
   ]
  },
  {
   "cell_type": "code",
   "execution_count": 3,
   "metadata": {},
   "outputs": [
    {
     "name": "stdout",
     "output_type": "stream",
     "text": [
      "10 es un numero positivo\n"
     ]
    }
   ],
   "source": [
    "a = 10\n",
    "\n",
    "if a>0:\n",
    "    print(\"%d es un numero positivo\"%(a))\n",
    "else:\n",
    "    print(\"%d es un numero negativo\"%(a))"
   ]
  },
  {
   "cell_type": "markdown",
   "metadata": {},
   "source": [
    "#### Ciclo for"
   ]
  },
  {
   "cell_type": "markdown",
   "metadata": {},
   "source": [
    "Nos permite repetir una o más instrucciones en un determinado número de veces.\n",
    "\n",
    "    for i in lista:\n",
    "        (Instrucciones a repetir)\n",
    "        \n",
    "    for i in range(i,n-1,inc):\n",
    "        (Instruciones a repetir)"
   ]
  },
  {
   "cell_type": "markdown",
   "metadata": {},
   "source": [
    "###### Suma de Gauss usando while"
   ]
  },
  {
   "cell_type": "code",
   "execution_count": 2,
   "metadata": {},
   "outputs": [
    {
     "name": "stdout",
     "output_type": "stream",
     "text": [
      "5050\n"
     ]
    }
   ],
   "source": [
    "a=0\n",
    "i=0\n",
    "while (i<101):\n",
    "    \n",
    "    a=a+i\n",
    "    i=i+1\n",
    "print(a)"
   ]
  },
  {
   "cell_type": "markdown",
   "metadata": {},
   "source": [
    "Realizar un programa que convierta un número binario de 4 bits a decimal utilizando todo lo visto hasta ahora"
   ]
  },
  {
   "cell_type": "markdown",
   "metadata": {},
   "source": [
    "1010 ----------> Binario\n",
    "\n",
    "1* 2^3 + 0*2^2 +  1*x^1  +  0*x^0  = 1*8 + 1*2 = 8 + 2 = 10\n",
    "\n",
    "\n",
    "1011 --------> Binario\n",
    "\n",
    "1* 2^3 + 0*2^2 +  1*x^1  +  1*x^0  = 1*8 + 1*2 +1 = 8+2+1 = 11"
   ]
  },
  {
   "cell_type": "code",
   "execution_count": null,
   "metadata": {},
   "outputs": [],
   "source": []
  }
 ],
 "metadata": {
  "kernelspec": {
   "display_name": "Python 3",
   "language": "python",
   "name": "python3"
  },
  "language_info": {
   "codemirror_mode": {
    "name": "ipython",
    "version": 3
   },
   "file_extension": ".py",
   "mimetype": "text/x-python",
   "name": "python",
   "nbconvert_exporter": "python",
   "pygments_lexer": "ipython3",
   "version": "3.7.4"
  }
 },
 "nbformat": 4,
 "nbformat_minor": 2
}
