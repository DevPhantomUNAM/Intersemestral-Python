{
 "cells": [
  {
   "cell_type": "markdown",
   "metadata": {},
   "source": [
    "#### Crear una función con su código del factorial y probarla en su calculadora."
   ]
  },
  {
   "cell_type": "code",
   "execution_count": null,
   "metadata": {},
   "outputs": [],
   "source": [
    "def factorial():\n",
    "    numero = int(input(\"Dame el numero que deses sacar el factorial: \"))\n",
    "    resultado = 1\n",
    "    factorial = 1\n",
    "\n",
    "    for i in range(numero):\n",
    "        resultado = resultado * factorial\n",
    "        factorial = factorial + 1\n",
    "\n",
    "    return(resultado)"
   ]
  },
  {
   "cell_type": "markdown",
   "metadata": {},
   "source": [
    "#### Tomar el programa que acabamos de hacer y calcular el promedio del grupo."
   ]
  },
  {
   "cell_type": "code",
   "execution_count": null,
   "metadata": {},
   "outputs": [],
   "source": []
  },
  {
   "cell_type": "markdown",
   "metadata": {},
   "source": [
    "#### Ahora que ya sabes leer y escribir en archivos, realizar un programa que solicite usuario y contraseña, las guarde en un archivo, pero que la contraseña tenga una longitud mayor a 8 caracteres. ▪ Al final, desplegar en pantalla los usuarios y contraseñas almacenadas."
   ]
  },
  {
   "cell_type": "code",
   "execution_count": null,
   "metadata": {},
   "outputs": [],
   "source": []
  }
 ],
 "metadata": {
  "kernelspec": {
   "display_name": "Python 3",
   "language": "python",
   "name": "python3"
  },
  "language_info": {
   "codemirror_mode": {
    "name": "ipython",
    "version": 3
   },
   "file_extension": ".py",
   "mimetype": "text/x-python",
   "name": "python",
   "nbconvert_exporter": "python",
   "pygments_lexer": "ipython3",
   "version": "3.7.4"
  }
 },
 "nbformat": 4,
 "nbformat_minor": 2
}
