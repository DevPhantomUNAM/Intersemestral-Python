{
 "cells": [
  {
   "cell_type": "markdown",
   "metadata": {},
   "source": [
    "Realizar un programa que convierta un número binario de 4 bits a decimal utilizando todo lo visto\n",
    "\n",
    "hasta ahora 1010 ---------->10 Binario Decimal"
   ]
  },
  {
   "cell_type": "code",
   "execution_count": 14,
   "metadata": {},
   "outputs": [
    {
     "name": "stdout",
     "output_type": "stream",
     "text": [
      "Dame el numero binario que desea convertir 1010\n",
      "La conversion del numero 1010 a decimal es: 16 valor\n"
     ]
    }
   ],
   "source": [
    "bandera = False\n",
    "while(bandera==False):\n",
    "    numero = int(input(\"Dame el numero binario que desea convertir \"))\n",
    "\n",
    "    lista = list(str(numero))\n",
    "    listaNumeros = []\n",
    "    \n",
    "    for i,e in enumerate(lista):\n",
    "        listaNumeros.append(int(lista[i]))\n",
    "    \n",
    "    \n",
    "    for e in listaNumeros:\n",
    "        if e>1:\n",
    "            print(\"Ingresaste un numero binario incorrecto\")\n",
    "            bandera = True\n",
    "        \n",
    "    if bandera == True:\n",
    "        bandera = False\n",
    "    else:\n",
    "        bandera = True\n",
    "\n",
    "disminucion = len(listaNumeros)\n",
    "valor = 0\n",
    "\n",
    "for i,e in enumerate(listaNumeros):\n",
    "    valor = valor + e*(2**(disminucion-1))\n",
    "    print(\"El valor es\",valor)\n",
    "    disminucion-1\n",
    "    \n",
    "print(\"La conversion del numero %d a decimal es: %d valor\"%(numero,valor))"
   ]
  },
  {
   "cell_type": "code",
   "execution_count": null,
   "metadata": {},
   "outputs": [],
   "source": [
    "\n",
    "    "
   ]
  }
 ],
 "metadata": {
  "kernelspec": {
   "display_name": "Python 3",
   "language": "python",
   "name": "python3"
  },
  "language_info": {
   "codemirror_mode": {
    "name": "ipython",
    "version": 3
   },
   "file_extension": ".py",
   "mimetype": "text/x-python",
   "name": "python",
   "nbconvert_exporter": "python",
   "pygments_lexer": "ipython3",
   "version": "3.7.4"
  }
 },
 "nbformat": 4,
 "nbformat_minor": 2
}
