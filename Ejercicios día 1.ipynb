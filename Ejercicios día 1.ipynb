{
 "cells": [
  {
   "cell_type": "markdown",
   "metadata": {},
   "source": [
    "#### Ahora que ya sabes hacer uso de los operadores aritméticos y como hacer conversiones de tipo. Hacer un programa que calcule tu año de nacimiento a partir de tu edad."
   ]
  },
  {
   "cell_type": "code",
   "execution_count": 9,
   "metadata": {},
   "outputs": [
    {
     "name": "stdout",
     "output_type": "stream",
     "text": [
      "Hola, me podrias dar tu edad por favor24\n",
      "Naciste en el anio: 1996\n"
     ]
    }
   ],
   "source": [
    "from datetime import date\n",
    "today = date.today()\n",
    "\n",
    "edad = int(input(\"Hola, me podrias dar tu edad por favor\"))\n",
    "\n",
    "print(\"Naciste en el anio: %d\" %(today.year-edad))"
   ]
  },
  {
   "cell_type": "markdown",
   "metadata": {},
   "source": [
    "#### Hacer un programa que dados 2 números calcule la suma, la resta, la multiplicación, la división, el módulo y la potencia"
   ]
  },
  {
   "cell_type": "code",
   "execution_count": 13,
   "metadata": {},
   "outputs": [
    {
     "name": "stdout",
     "output_type": "stream",
     "text": [
      "Dame el numero 1 10\n",
      "Dame el numero 2 5\n",
      "La suma de 10.00 y 5.00 es de: 15.00\n",
      "La resta de 10.00 y 5.00 es de: 5.00\n",
      "La multiplicación de 10.00 y 5.00 es de: 50.00\n",
      "La division de 10.00 entre 5.00 es de: 2.00\n"
     ]
    }
   ],
   "source": [
    "num1 = float(input(\"Dame el numero 1 \"))\n",
    "num2 = float(input(\"Dame el numero 2 \"))\n",
    "\n",
    "print(\"La suma de %.2f y %.2f es de: %.2f\" %(num1,num2,(num1+num2)))\n",
    "print(\"La resta de %.2f y %.2f es de: %.2f\" %(num1,num2,(num1-num2)))\n",
    "print(\"La multiplicación de %.2f y %.2f es de: %.2f\" %(num1,num2,(num1*num2)))\n",
    "print(\"La division de %.2f entre %.2f es de: %.2f\" %(num1,num2,(num1/num2)))"
   ]
  },
  {
   "cell_type": "markdown",
   "metadata": {},
   "source": [
    "#### Ahora que ya sabes hacer uso de las cadenas y subcadenas hacer un programa que solicite tu nombre y extraiga las iniciales, tu nombre, apellido paterno y apellido materno."
   ]
  },
  {
   "cell_type": "code",
   "execution_count": 18,
   "metadata": {},
   "outputs": [
    {
     "name": "stdout",
     "output_type": "stream",
     "text": [
      "Dime tu primer nombre Ri\n",
      "Dime tu segundo nombre Da\n",
      "Dime tu primer apellido Lo\n",
      "Dime tu segundo apellido Ca\n",
      "Las iniciales de tu nombre completo es : R, D, L, C\n"
     ]
    }
   ],
   "source": [
    "primerNombre = input(\"Dime tu primer nombre \")\n",
    "segundoNombre = input(\"Dime tu segundo nombre \")\n",
    "primerApellido = input(\"Dime tu primer apellido \")\n",
    "segundoApellido = input(\"Dime tu segundo apellido \")\n",
    "\n",
    "print(\"Las iniciales de tu nombre completo es : %s, %s, %s, %s\" %(primerNombre[0],segundoNombre[0],primerApellido[0],segundoApellido[0]))"
   ]
  },
  {
   "cell_type": "markdown",
   "metadata": {},
   "source": [
    "#### Realizar un programa en Python que genere una contraseña de la siguiente manera: \n",
    "- Solicitar el nombre del usuario \n",
    "-Saludar al usuario y poner su nombre en mayúsculas y luego en minúsculas \n",
    "- Solicitar su edad \n",
    "- Extraer el tercer carácter de su nombre y concatenarle el triple de su edad dividida entre 2 más su inicial.\n",
    " Ejemplo i43.5l\n",
    "-Mostrarle la contraseña al usuario.\n"
   ]
  },
  {
   "cell_type": "code",
   "execution_count": null,
   "metadata": {},
   "outputs": [],
   "source": []
  }
 ],
 "metadata": {
  "kernelspec": {
   "display_name": "Python 3",
   "language": "python",
   "name": "python3"
  },
  "language_info": {
   "codemirror_mode": {
    "name": "ipython",
    "version": 3
   },
   "file_extension": ".py",
   "mimetype": "text/x-python",
   "name": "python",
   "nbconvert_exporter": "python",
   "pygments_lexer": "ipython3",
   "version": "3.7.4"
  }
 },
 "nbformat": 4,
 "nbformat_minor": 2
}
