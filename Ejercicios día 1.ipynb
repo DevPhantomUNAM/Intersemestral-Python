{
 "cells": [
  {
   "cell_type": "markdown",
   "metadata": {},
   "source": [
    "#### Ahora que ya sabes hacer uso de los operadores aritméticos y como hacer conversiones de tipo. Hacer un programa que calcule tu año de nacimiento a partir de tu edad."
   ]
  },
  {
   "cell_type": "code",
   "execution_count": 9,
   "metadata": {},
   "outputs": [
    {
     "name": "stdout",
     "output_type": "stream",
     "text": [
      "Hola, me podrias dar tu edad por favor24\n",
      "Naciste en el anio: 1996\n"
     ]
    }
   ],
   "source": [
    "from datetime import date\n",
    "today = date.today()\n",
    "\n",
    "edad = int(input(\"Hola, me podrias dar tu edad por favor\"))\n",
    "\n",
    "print(\"Naciste en el anio: %d\" %(today.year-edad))"
   ]
  },
  {
   "cell_type": "markdown",
   "metadata": {},
   "source": [
    "#### Hacer un programa que dados 2 números calcule la suma, la resta, la multiplicación, la división, el módulo y la potencia"
   ]
  },
  {
   "cell_type": "markdown",
   "metadata": {},
   "source": [
    "#### Ahora que ya sabes hacer uso de las cadenas y subcadenas hacer un programa que solicite tu nombre y extraiga las iniciales, tu nombre, apellido paterno y apellido materno."
   ]
  },
  {
   "cell_type": "markdown",
   "metadata": {},
   "source": [
    "#### Realizar un programa en Python que genere una contraseña de la siguiente manera: \n",
    "- Solicitar el nombre del usuario \n",
    "-Saludar al usuario y poner su nombre en mayúsculas y luego en minúsculas \n",
    "- Solicitar su edad \n",
    "- Extraer el tercer carácter de su nombre y concatenarle el triple de su edad dividida entre 2 más su inicial.\n",
    " Ejemplo i43.5l\n",
    "-Mostrarle la contraseña al usuario.\n"
   ]
  },
  {
   "cell_type": "code",
   "execution_count": null,
   "metadata": {},
   "outputs": [],
   "source": []
  }
 ],
 "metadata": {
  "kernelspec": {
   "display_name": "Python 3",
   "language": "python",
   "name": "python3"
  },
  "language_info": {
   "codemirror_mode": {
    "name": "ipython",
    "version": 3
   },
   "file_extension": ".py",
   "mimetype": "text/x-python",
   "name": "python",
   "nbconvert_exporter": "python",
   "pygments_lexer": "ipython3",
   "version": "3.7.4"
  }
 },
 "nbformat": 4,
 "nbformat_minor": 2
}
