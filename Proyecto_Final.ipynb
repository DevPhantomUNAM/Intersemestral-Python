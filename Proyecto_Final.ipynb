{
 "cells": [
  {
   "cell_type": "markdown",
   "metadata": {},
   "source": [
    "# Proyecto final"
   ]
  },
  {
   "cell_type": "code",
   "execution_count": 21,
   "metadata": {
    "scrolled": true
   },
   "outputs": [
    {
     "name": "stdout",
     "output_type": "stream",
     "text": [
      "['102;0.83']\n",
      "102 0.83\n"
     ]
    }
   ],
   "source": [
    "import csv\n",
    "\n",
    "i = 0\n",
    "\n",
    "with open('bd.csv') as f:\n",
    "    reader = csv.reader(f)\n",
    "    print(row)\n",
    "    \n",
    "    # Remplao el ; que sale, por un espacio\n",
    "    x = row[0].replace(\";\", \" \")\n",
    "    print(x)\n",
    "\n",
    "    "
   ]
  },
  {
   "cell_type": "markdown",
   "metadata": {},
   "source": [
    "### Ahora divido en una lista, los elementos separados por espacio"
   ]
  },
  {
   "cell_type": "code",
   "execution_count": 22,
   "metadata": {},
   "outputs": [
    {
     "name": "stdout",
     "output_type": "stream",
     "text": [
      "['102', '0.83']\n"
     ]
    }
   ],
   "source": [
    "y = x.split()\n",
    "print(y)"
   ]
  },
  {
   "cell_type": "markdown",
   "metadata": {},
   "source": [
    "### Creare una función para crear una lista con los elementos"
   ]
  },
  {
   "cell_type": "code",
   "execution_count": 26,
   "metadata": {
    "scrolled": true
   },
   "outputs": [
    {
     "name": "stdout",
     "output_type": "stream",
     "text": [
      "[['62', '0'], ['15', '0.21'], ['55', '0.84'], ['91', '0.13'], ['33', '0.99'], ['80', '0.43'], ['86', '0.3'], ['110', '0.09'], ['73', '0.21'], ['108', '0.44'], ['103', '0.02'], ['16', '0.53'], ['62', '0.75'], ['14', '0.43'], ['30', '0.55'], ['105', '0.91'], ['36', '0.43'], ['42', '0.91'], ['41', '0.7'], ['76', '0.93'], ['106', '0.25'], ['98', '0.81'], ['87', '0.77'], ['89', '0.26'], ['93', '0.5'], ['50', '0.4'], ['40', '0.27'], ['15', '0.03'], ['7', '0.18'], ['33', '0.78'], ['18', '0.93'], ['41', '0.62'], ['98', '0.58'], ['14', '0.78'], ['6', '0.35'], ['15', '0.42'], ['28', '0.17'], ['96', '0.32'], ['60', '0.75'], ['69', '0.79'], ['77', '0.72'], ['27', '0.6'], ['69', '0.23'], ['99', '0.86'], ['70', '0.91'], ['50', '0.5'], ['37', '0.81'], ['46', '0.29'], ['91', '0.79'], ['61', '0.29'], ['18', '0.18'], ['29', '0.5'], ['69', '0.75'], ['1', '0.58'], ['62', '0.61'], ['8', '1'], ['100', '0.13'], ['107', '0.62'], ['105', '0.35'], ['41', '0.82'], ['99', '0.03'], ['93', '0.95'], ['98', '0.07'], ['11', '0.55'], ['19', '0.24'], ['5', '0.48'], ['67', '0.78'], ['61', '0.2'], ['52', '0.67'], ['50', '0.46'], ['98', '0.47'], ['37', '0.61'], ['48', '0.08'], ['105', '0.62'], ['30', '0.43'], ['69', '0.29'], ['98', '0.82'], ['57', '0.25'], ['3', '0.86'], ['76', '0.88'], ['85', '0.87'], ['80', '0.54'], ['106', '0.14'], ['69', '0.01'], ['56', '0.42'], ['105', '0.6'], ['15', '0.17'], ['98', '0.93'], ['108', '0.46'], ['88', '0.78'], ['91', '0.79'], ['6', '0.73'], ['101', '0.91'], ['103', '0.95'], ['106', '0.55'], ['2', '0.37'], ['76', '0.7'], ['8', '0.39'], ['6', '0.45'], ['102', '0.83']]\n"
     ]
    }
   ],
   "source": [
    "bd = []\n",
    "with open('bd.csv') as f:\n",
    "    reader = csv.reader(f)\n",
    "    for row in reader:\n",
    "        x = row[0].replace(\";\", \" \")\n",
    "        y = x.split()\n",
    "        bd.append(y)\n",
    "print(bd)"
   ]
  },
  {
   "cell_type": "markdown",
   "metadata": {},
   "source": [
    "### Creare una funcion para cambiar todos los valores a numero"
   ]
  },
  {
   "cell_type": "code",
   "execution_count": 39,
   "metadata": {},
   "outputs": [
    {
     "name": "stdout",
     "output_type": "stream",
     "text": [
      "[[62, 0.0], [15, 0.21], [55, 0.84], [91, 0.13], [33, 0.99], [80, 0.43], [86, 0.3], [110, 0.09], [73, 0.21], [108, 0.44], [103, 0.02], [16, 0.53], [62, 0.75], [14, 0.43], [30, 0.55], [105, 0.91], [36, 0.43], [42, 0.91], [41, 0.7], [76, 0.93], [106, 0.25], [98, 0.81], [87, 0.77], [89, 0.26], [93, 0.5], [50, 0.4], [40, 0.27], [15, 0.03], [7, 0.18], [33, 0.78], [18, 0.93], [41, 0.62], [98, 0.58], [14, 0.78], [6, 0.35], [15, 0.42], [28, 0.17], [96, 0.32], [60, 0.75], [69, 0.79], [77, 0.72], [27, 0.6], [69, 0.23], [99, 0.86], [70, 0.91], [50, 0.5], [37, 0.81], [46, 0.29], [91, 0.79], [61, 0.29], [18, 0.18], [29, 0.5], [69, 0.75], [1, 0.58], [62, 0.61], [8, 1.0], [100, 0.13], [107, 0.62], [105, 0.35], [41, 0.82], [99, 0.03], [93, 0.95], [98, 0.07], [11, 0.55], [19, 0.24], [5, 0.48], [67, 0.78], [61, 0.2], [52, 0.67], [50, 0.46], [98, 0.47], [37, 0.61], [48, 0.08], [105, 0.62], [30, 0.43], [69, 0.29], [98, 0.82], [57, 0.25], [3, 0.86], [76, 0.88], [85, 0.87], [80, 0.54], [106, 0.14], [69, 0.01], [56, 0.42], [105, 0.6], [15, 0.17], [98, 0.93], [108, 0.46], [88, 0.78], [91, 0.79], [6, 0.73], [101, 0.91], [103, 0.95], [106, 0.55], [2, 0.37], [76, 0.7], [8, 0.39], [6, 0.45], [102, 0.83]]\n"
     ]
    }
   ],
   "source": [
    "new_bd = []\n",
    "for i,e in enumerate(bd):\n",
    "    edad= int(e[0])\n",
    "    indicador = float(e[1])\n",
    "    \n",
    "    new_bd.append([edad,indicador])\n",
    "print(new_bd)"
   ]
  },
  {
   "cell_type": "markdown",
   "metadata": {},
   "source": [
    "### Creare una base de datos de las personas que tienen Covid"
   ]
  },
  {
   "cell_type": "code",
   "execution_count": 40,
   "metadata": {},
   "outputs": [
    {
     "name": "stdout",
     "output_type": "stream",
     "text": [
      "[[55, 0.84], [33, 0.99], [105, 0.91], [42, 0.91], [76, 0.93], [98, 0.81], [18, 0.93], [99, 0.86], [70, 0.91], [37, 0.81], [8, 1.0], [41, 0.82], [93, 0.95], [98, 0.82], [3, 0.86], [76, 0.88], [85, 0.87], [98, 0.93], [101, 0.91], [103, 0.95], [102, 0.83]]\n"
     ]
    }
   ],
   "source": [
    "bd_COVID = []\n",
    "\n",
    "for i,e in enumerate(new_bd):\n",
    "    if e[1]>0.8:\n",
    "        bd_COVID.append(e)\n",
    "        \n",
    "print(bd_COVID)"
   ]
  },
  {
   "cell_type": "code",
   "execution_count": 44,
   "metadata": {},
   "outputs": [
    {
     "name": "stdout",
     "output_type": "stream",
     "text": [
      "21 personas tienen un indicador de COVID mayor de 0.8\n"
     ]
    }
   ],
   "source": [
    "print(\"%d personas tienen un indicador de COVID mayor de 0.8\"%(len(bd_COVID)))"
   ]
  },
  {
   "cell_type": "markdown",
   "metadata": {},
   "source": [
    "## Calcular el color del semáforo COVID"
   ]
  },
  {
   "cell_type": "code",
   "execution_count": 46,
   "metadata": {},
   "outputs": [
    {
     "name": "stdout",
     "output_type": "stream",
     "text": [
      "Amarillo\n"
     ]
    }
   ],
   "source": [
    "if len(bd_COVID) == 0:\n",
    "    print(\"Verde\")\n",
    "elif len(bd_COVID) >1 and len(bd_COVID) <=30:\n",
    "    print(\"Amarillo\")\n",
    "elif len(bd_COVID) >30 and len(bd_COVID) <=70:\n",
    "    print(\"Naranja\")\n",
    "else:\n",
    "    print(\"Rojo\")"
   ]
  },
  {
   "cell_type": "markdown",
   "metadata": {},
   "source": [
    "## Calcular la edad promedio de las personas con COVID"
   ]
  },
  {
   "cell_type": "code",
   "execution_count": 48,
   "metadata": {},
   "outputs": [
    {
     "name": "stdout",
     "output_type": "stream",
     "text": [
      " El promedio de edad de las personas que tienen covid es de 69\n"
     ]
    }
   ],
   "source": [
    "edad = 0\n",
    "for i,e in enumerate(bd_COVID):\n",
    "    edad = edad + e[0]\n",
    "    \n",
    "print(\" El promedio de edad de las personas que tienen covid es de %.f\" %(edad/len(bd_COVID)))"
   ]
  },
  {
   "cell_type": "code",
   "execution_count": null,
   "metadata": {},
   "outputs": [],
   "source": []
  }
 ],
 "metadata": {
  "kernelspec": {
   "display_name": "Python 3",
   "language": "python",
   "name": "python3"
  },
  "language_info": {
   "codemirror_mode": {
    "name": "ipython",
    "version": 3
   },
   "file_extension": ".py",
   "mimetype": "text/x-python",
   "name": "python",
   "nbconvert_exporter": "python",
   "pygments_lexer": "ipython3",
   "version": "3.7.4"
  }
 },
 "nbformat": 4,
 "nbformat_minor": 2
}
