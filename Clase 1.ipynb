{
 "cells": [
  {
   "cell_type": "markdown",
   "metadata": {},
   "source": [
    "# Introducción a Python"
   ]
  },
  {
   "cell_type": "code",
   "execution_count": 9,
   "metadata": {},
   "outputs": [
    {
     "name": "stdout",
     "output_type": "stream",
     "text": [
      "Hola mudno\n"
     ]
    }
   ],
   "source": [
    "print(\"Hola mudno\")"
   ]
  },
  {
   "cell_type": "markdown",
   "metadata": {},
   "source": [
    "### Lectura de datos desde el teclado"
   ]
  },
  {
   "cell_type": "markdown",
   "metadata": {},
   "source": [
    "Una variable es un espacio de memoria donde podemos guardar datos, como números, letras, caracteres, texto, etc."
   ]
  },
  {
   "cell_type": "code",
   "execution_count": null,
   "metadata": {},
   "outputs": [],
   "source": [
    "var1 = input(\"Ingresa un numero\")"
   ]
  },
  {
   "cell_type": "markdown",
   "metadata": {},
   "source": [
    "#### Programa que pregunta nuestro nombre y nos saluda"
   ]
  },
  {
   "cell_type": "code",
   "execution_count": 6,
   "metadata": {},
   "outputs": [
    {
     "name": "stdout",
     "output_type": "stream",
     "text": [
      "¿Comó te llamas?Daniel\n",
      "\n",
      "Mucho gusto  Daniel\n"
     ]
    }
   ],
   "source": [
    "miNombre = input(\"¿Comó te llamas?\")\n",
    "print(\"\\nMucho gusto \",miNombre)"
   ]
  },
  {
   "cell_type": "code",
   "execution_count": 8,
   "metadata": {},
   "outputs": [
    {
     "name": "stdout",
     "output_type": "stream",
     "text": [
      "¿Cuál es tu edad24\n",
      "El triple de tu edad actual es:  72\n"
     ]
    }
   ],
   "source": [
    "miEdad = int(input(\"¿Cuál es tu edad\"))\n",
    "\n",
    "triple = 3 * miEdad\n",
    "\n",
    "print(\"El triple de tu edad actual es: \", triple)"
   ]
  },
  {
   "cell_type": "markdown",
   "metadata": {},
   "source": [
    "#### Sumadora"
   ]
  },
  {
   "cell_type": "markdown",
   "metadata": {},
   "source": [
    "Programa que me sume dos numeros por el usuario y no los muestre"
   ]
  },
  {
   "cell_type": "code",
   "execution_count": 11,
   "metadata": {},
   "outputs": [
    {
     "name": "stdout",
     "output_type": "stream",
     "text": [
      "Hola, vamos a hacer la suma de dos números enteros\n",
      "Dime el primer número a sumar: 5\n",
      "Dime el segundo número a sumar: 6\n",
      "La suma de 5 y 6 es 11\n"
     ]
    }
   ],
   "source": [
    "print(\"Hola, vamos a hacer la suma de dos números enteros\")\n",
    "\n",
    "num1 = int(input(\"Dime el primer número a sumar: \"))\n",
    "num2 = int(input(\"Dime el segundo número a sumar: \"))\n",
    "\n",
    "suma = num1+num2\n",
    "\n",
    "\n",
    "print(\"La suma de %d y %d es %d\" %(num1,num2,suma))"
   ]
  },
  {
   "cell_type": "markdown",
   "metadata": {},
   "source": [
    "### Cadenas"
   ]
  },
  {
   "cell_type": "markdown",
   "metadata": {},
   "source": [
    "Este programa demuestra uso de cadenas y subcadenas"
   ]
  },
  {
   "cell_type": "code",
   "execution_count": 12,
   "metadata": {},
   "outputs": [
    {
     "name": "stdout",
     "output_type": "stream",
     "text": [
      "A mi me gusta programar en Python\n"
     ]
    }
   ],
   "source": [
    "frase = \"A mi me gusta programar en Python\"\n",
    "\n",
    "print(frase)"
   ]
  },
  {
   "cell_type": "code",
   "execution_count": null,
   "metadata": {},
   "outputs": [],
   "source": []
  }
 ],
 "metadata": {
  "kernelspec": {
   "display_name": "Python 3",
   "language": "python",
   "name": "python3"
  },
  "language_info": {
   "codemirror_mode": {
    "name": "ipython",
    "version": 3
   },
   "file_extension": ".py",
   "mimetype": "text/x-python",
   "name": "python",
   "nbconvert_exporter": "python",
   "pygments_lexer": "ipython3",
   "version": "3.7.4"
  }
 },
 "nbformat": 4,
 "nbformat_minor": 2
}
